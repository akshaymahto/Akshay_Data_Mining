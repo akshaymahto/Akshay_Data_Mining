{
  "nbformat": 4,
  "nbformat_minor": 0,
  "metadata": {
    "colab": {
      "provenance": []
    },
    "kernelspec": {
      "name": "python3",
      "display_name": "Python 3"
    },
    "language_info": {
      "name": "python"
    }
  },
  "cells": [
    {
      "cell_type": "code",
      "execution_count": 2,
      "metadata": {
        "id": "tvl63JpzY3-i"
      },
      "outputs": [],
      "source": [
        "!apt-get install openjdk-8-jdk-headless -qq > /dev/null\n",
        "!tar xf spark-3.5.2-bin-hadoop3.tar\n",
        "!pip install -q findspark"
      ]
    },
    {
      "cell_type": "code",
      "source": [
        "import os\n",
        "os.environ[\"JAVA_HOME\"] = \"/usr/lib/jvm/java-8-openjdk-amd64\"\n",
        "os.environ[\"SPARK_HOME\"] = \"/content/spark-3.5.2-bin-hadoop3\""
      ],
      "metadata": {
        "id": "r7Vo5RiiONJP"
      },
      "execution_count": 3,
      "outputs": []
    },
    {
      "cell_type": "code",
      "source": [
        "import findspark\n",
        "findspark.init()\n",
        "from pyspark.sql import SparkSession\n",
        "spark = SparkSession.builder.master(\"local[*]\").getOrCreate()"
      ],
      "metadata": {
        "id": "zDYNC348ONeV"
      },
      "execution_count": 4,
      "outputs": []
    },
    {
      "cell_type": "code",
      "source": [
        "# Read the dataset into a Spark DataFrame named df\n",
        "df = spark.read.csv(\"geolocation.csv\", header=True, inferSchema=True)"
      ],
      "metadata": {
        "id": "E2METKerjat3"
      },
      "execution_count": 5,
      "outputs": []
    },
    {
      "cell_type": "code",
      "source": [
        "df.show(5)"
      ],
      "metadata": {
        "colab": {
          "base_uri": "https://localhost:8080/"
        },
        "id": "gn0peWNPjt1T",
        "outputId": "86b83406-64f9-40cc-ddf4-337f486f0bc2"
      },
      "execution_count": 6,
      "outputs": [
        {
          "output_type": "stream",
          "name": "stdout",
          "text": [
            "+-------+--------+---------+---------+-----------+----------+----------+--------+---------+----------+\n",
            "|truckid|driverid|    event| latitude|  longitude|      city|     state|velocity|event_ind|idling_ind|\n",
            "+-------+--------+---------+---------+-----------+----------+----------+--------+---------+----------+\n",
            "|    A54|     A54|   normal|38.440467|-122.714431|Santa Rosa|California|      17|        0|         0|\n",
            "|    A20|     A20|   normal|36.977173|-121.899402|     Aptos|California|      27|        0|         0|\n",
            "|    A40|     A40|overspeed|37.957702| -121.29078|  Stockton|California|      77|        1|         0|\n",
            "|    A31|     A31|   normal|39.409608|-123.355566|   Willits|California|      22|        0|         0|\n",
            "|    A71|     A71|   normal|33.683947|-117.794694|    Irvine|California|      43|        0|         0|\n",
            "+-------+--------+---------+---------+-----------+----------+----------+--------+---------+----------+\n",
            "only showing top 5 rows\n",
            "\n"
          ]
        }
      ]
    },
    {
      "cell_type": "code",
      "source": [
        "df.printSchema()"
      ],
      "metadata": {
        "colab": {
          "base_uri": "https://localhost:8080/"
        },
        "id": "7STm3Azdjwjx",
        "outputId": "51ed35c7-2866-4cd1-8c1e-77853b8a201f"
      },
      "execution_count": 7,
      "outputs": [
        {
          "output_type": "stream",
          "name": "stdout",
          "text": [
            "root\n",
            " |-- truckid: string (nullable = true)\n",
            " |-- driverid: string (nullable = true)\n",
            " |-- event: string (nullable = true)\n",
            " |-- latitude: double (nullable = true)\n",
            " |-- longitude: double (nullable = true)\n",
            " |-- city: string (nullable = true)\n",
            " |-- state: string (nullable = true)\n",
            " |-- velocity: integer (nullable = true)\n",
            " |-- event_ind: integer (nullable = true)\n",
            " |-- idling_ind: integer (nullable = true)\n",
            "\n"
          ]
        }
      ]
    },
    {
      "cell_type": "code",
      "source": [
        "df.select(\"truckid\", \"driverid\", \"event\", \"city\").filter(\"event != 'normal'\").show()"
      ],
      "metadata": {
        "colab": {
          "base_uri": "https://localhost:8080/"
        },
        "id": "p6I4A4qQj0ta",
        "outputId": "a466ca47-51c1-46fd-988c-7c082e178d6a"
      },
      "execution_count": 8,
      "outputs": [
        {
          "output_type": "stream",
          "name": "stdout",
          "text": [
            "+-------+--------+--------------------+-------------+\n",
            "|truckid|driverid|               event|         city|\n",
            "+-------+--------+--------------------+-------------+\n",
            "|    A40|     A40|           overspeed|     Stockton|\n",
            "|     A5|      A5|unsafe following ...|      Klamath|\n",
            "|    A48|     A48|           overspeed|    Roseville|\n",
            "|    A94|     A94|unsafe following ...|  San Quentin|\n",
            "|    A49|     A49|      lane departure|        Ukiah|\n",
            "|    A97|     A97|           overspeed|   Santa Rosa|\n",
            "|    A75|     A75|      lane departure|    San Dimas|\n",
            "|     A9|      A9|unsafe tail distance|    San Diego|\n",
            "|    A80|     A80|unsafe tail distance|San Francisco|\n",
            "|    A91|     A91|unsafe following ...|   Santa Rosa|\n",
            "|    A59|     A59|unsafe following ...| Santa Monica|\n",
            "|    A85|     A85|      lane departure|San Francisco|\n",
            "|    A94|     A94|           overspeed| San Fernando|\n",
            "|    A73|     A73|           overspeed|  Bakersfield|\n",
            "|    A71|     A71|      lane departure|       Irvine|\n",
            "|    A28|     A28|      lane departure|         Napa|\n",
            "|    A98|     A98|unsafe following ...|       Irvine|\n",
            "|     A9|      A9|      lane departure|     La Palma|\n",
            "|    A37|     A37|unsafe following ...| Apple Valley|\n",
            "|    A43|     A43|      lane departure|     Arbuckle|\n",
            "+-------+--------+--------------------+-------------+\n",
            "only showing top 20 rows\n",
            "\n"
          ]
        }
      ]
    },
    {
      "cell_type": "code",
      "source": [
        "df.groupBy(\"event\").count().show()"
      ],
      "metadata": {
        "colab": {
          "base_uri": "https://localhost:8080/"
        },
        "id": "4uYFu96Vj50f",
        "outputId": "853ff406-9a9f-466b-91ca-5450b74e31e8"
      },
      "execution_count": 9,
      "outputs": [
        {
          "output_type": "stream",
          "name": "stdout",
          "text": [
            "+--------------------+-----+\n",
            "|               event|count|\n",
            "+--------------------+-----+\n",
            "|      lane departure|  152|\n",
            "|unsafe tail distance|   65|\n",
            "|              normal| 7543|\n",
            "|unsafe following ...|  150|\n",
            "|           overspeed|   90|\n",
            "+--------------------+-----+\n",
            "\n"
          ]
        }
      ]
    },
    {
      "cell_type": "code",
      "source": [
        "df.describe(\"velocity\").show()"
      ],
      "metadata": {
        "colab": {
          "base_uri": "https://localhost:8080/"
        },
        "id": "dBAfghmaj_vY",
        "outputId": "853ee8a5-6d6f-4f12-ac62-e95064f6b9df"
      },
      "execution_count": 10,
      "outputs": [
        {
          "output_type": "stream",
          "name": "stdout",
          "text": [
            "+-------+------------------+\n",
            "|summary|          velocity|\n",
            "+-------+------------------+\n",
            "|  count|              8000|\n",
            "|   mean|           35.0565|\n",
            "| stddev|24.863750391090154|\n",
            "|    min|                 0|\n",
            "|    max|               100|\n",
            "+-------+------------------+\n",
            "\n"
          ]
        }
      ]
    },
    {
      "cell_type": "code",
      "source": [
        "!apt-get install openjdk-8-jdk-headless -qq > /dev/null"
      ],
      "metadata": {
        "id": "VN-A-WpJkDiX"
      },
      "execution_count": 11,
      "outputs": []
    },
    {
      "cell_type": "code",
      "source": [
        "!wget https://downloads.apache.org/hadoop/common/hadoop-3.3.6/hadoop-3.3.6.tar.gz\n",
        "!tar -xzf hadoop-3.3.6.tar.gz\n",
        "!tar xf apache-hive-3.1.3-bin.tar"
      ],
      "metadata": {
        "colab": {
          "base_uri": "https://localhost:8080/"
        },
        "id": "ApY_2TMnkJWP",
        "outputId": "2097611f-43c3-4e4d-81c2-1fdd8d6874fe"
      },
      "execution_count": 12,
      "outputs": [
        {
          "output_type": "stream",
          "name": "stdout",
          "text": [
            "--2025-02-26 05:59:59--  https://downloads.apache.org/hadoop/common/hadoop-3.3.6/hadoop-3.3.6.tar.gz\n",
            "Resolving downloads.apache.org (downloads.apache.org)... 88.99.208.237, 135.181.214.104, 2a01:4f9:3a:2c57::2, ...\n",
            "Connecting to downloads.apache.org (downloads.apache.org)|88.99.208.237|:443... connected.\n",
            "HTTP request sent, awaiting response... 200 OK\n",
            "Length: 730107476 (696M) [application/x-gzip]\n",
            "Saving to: ‘hadoop-3.3.6.tar.gz’\n",
            "\n",
            "hadoop-3.3.6.tar.gz 100%[===================>] 696.28M  27.7MB/s    in 26s     \n",
            "\n",
            "2025-02-26 06:00:25 (27.0 MB/s) - ‘hadoop-3.3.6.tar.gz’ saved [730107476/730107476]\n",
            "\n"
          ]
        }
      ]
    },
    {
      "cell_type": "code",
      "source": [
        "import os\n",
        "os.environ[\"JAVA_HOME\"] = \"/usr/lib/jvm/java-8-openjdk-amd64\"\n",
        "os.environ[\"HADOOP_HOME\"] = \"/content/hadoop-3.3.6\"\n",
        "os.environ[\"HIVE_HOME\"] = \"/content/apache-hive-3.1.3-bin\""
      ],
      "metadata": {
        "id": "7FEHy5QXkZeU"
      },
      "execution_count": 13,
      "outputs": []
    },
    {
      "cell_type": "code",
      "source": [
        "!rm -rf metastore_db"
      ],
      "metadata": {
        "id": "iUsVLpkTkfe6"
      },
      "execution_count": 14,
      "outputs": []
    },
    {
      "cell_type": "code",
      "source": [
        "!$HIVE_HOME/bin/schematool -initSchema -dbType derby\n"
      ],
      "metadata": {
        "colab": {
          "base_uri": "https://localhost:8080/"
        },
        "id": "0xykXwpQkikD",
        "outputId": "a386821b-a3eb-4368-9576-f50dd72e54d7"
      },
      "execution_count": 15,
      "outputs": [
        {
          "output_type": "stream",
          "name": "stdout",
          "text": [
            "SLF4J: Class path contains multiple SLF4J bindings.\n",
            "SLF4J: Found binding in [jar:file:/content/apache-hive-3.1.3-bin/lib/log4j-slf4j-impl-2.17.1.jar!/org/slf4j/impl/StaticLoggerBinder.class]\n",
            "SLF4J: Found binding in [jar:file:/content/hadoop-3.3.6/share/hadoop/common/lib/slf4j-reload4j-1.7.36.jar!/org/slf4j/impl/StaticLoggerBinder.class]\n",
            "SLF4J: See http://www.slf4j.org/codes.html#multiple_bindings for an explanation.\n",
            "SLF4J: Actual binding is of type [org.apache.logging.slf4j.Log4jLoggerFactory]\n",
            "Metastore connection URL:\t jdbc:derby:;databaseName=metastore_db;create=true\n",
            "Metastore Connection Driver :\t org.apache.derby.jdbc.EmbeddedDriver\n",
            "Metastore connection User:\t APP\n",
            "Starting metastore schema initialization to 3.1.0\n",
            "Initialization script hive-schema-3.1.0.derby.sql\n",
            "\n",
            " \n",
            " \n",
            " \n",
            " \n",
            " \n",
            " \n",
            " \n",
            " \n",
            " \n",
            "\n",
            " \n",
            " \n",
            " \n",
            " \n",
            " \n",
            " \n",
            " \n",
            " \n",
            " \n",
            " \n",
            " \n",
            " \n",
            " \n",
            " \n",
            " \n",
            " \n",
            " \n",
            " \n",
            " \n",
            " \n",
            " \n",
            " \n",
            " \n",
            " \n",
            " \n",
            "\n",
            " \n",
            " \n",
            " \n",
            " \n",
            " \n",
            " \n",
            " \n",
            " \n",
            " \n",
            " \n",
            " \n",
            " \n",
            " \n",
            " \n",
            " \n",
            " \n",
            " \n",
            " \n",
            " \n",
            " \n",
            " \n",
            " \n",
            "\n",
            " \n",
            " \n",
            " \n",
            " \n",
            " \n",
            " \n",
            " \n",
            " \n",
            "\n",
            " \n",
            "\n",
            " \n",
            " \n",
            " \n",
            "\n",
            " \n",
            " \n",
            " \n",
            "\n",
            "\n",
            " \n",
            " \n",
            " \n",
            "\n",
            " \n",
            " \n",
            " \n",
            "\n",
            "\n",
            " \n",
            " \n",
            " \n",
            " \n",
            " \n",
            " \n",
            " \n",
            "\n",
            "\n",
            " \n",
            " \n",
            " \n",
            "\n",
            " \n",
            " \n",
            " \n",
            "\n",
            " \n",
            " \n",
            "\n",
            " \n",
            " \n",
            " \n",
            " \n",
            " \n",
            "\n",
            " \n",
            " \n",
            " \n",
            " \n",
            " \n",
            " \n",
            " \n",
            " \n",
            " \n",
            " \n",
            " \n",
            " \n",
            "\n",
            " \n",
            " \n",
            " \n",
            " \n",
            " \n",
            " \n",
            "\n",
            " \n",
            " \n",
            " \n",
            " \n",
            " \n",
            " \n",
            " \n",
            " \n",
            " \n",
            " \n",
            " \n",
            " \n",
            " \n",
            " \n",
            " \n",
            " \n",
            " \n",
            " \n",
            " \n",
            " \n",
            " \n",
            " \n",
            " \n",
            " \n",
            " \n",
            " \n",
            " \n",
            " \n",
            " \n",
            " \n",
            " \n",
            " \n",
            " \n",
            " \n",
            " \n",
            " \n",
            " \n",
            "\n",
            " \n",
            " \n",
            " \n",
            "\n",
            " \n",
            " \n",
            " \n",
            " \n",
            " \n",
            " \n",
            " \n",
            " \n",
            " \n",
            " \n",
            " \n",
            " \n",
            " \n",
            " \n",
            " \n",
            " \n",
            "\n",
            " \n",
            " \n",
            "\n",
            "\n",
            " \n",
            "\n",
            "\n",
            "\n",
            " \n",
            "\n",
            "\n",
            " \n",
            " \n",
            " \n",
            " \n",
            " \n",
            " \n",
            " \n",
            " \n",
            " \n",
            "\n",
            " \n",
            " \n",
            " \n",
            " \n",
            " \n",
            " \n",
            "\n",
            " \n",
            "\n",
            "\n",
            "Initialization script completed\n",
            "schemaTool completed\n"
          ]
        }
      ]
    },
    {
      "cell_type": "code",
      "source": [
        "!$HIVE_HOME/bin/hive -e 'show databases;'"
      ],
      "metadata": {
        "colab": {
          "base_uri": "https://localhost:8080/"
        },
        "id": "jMrqb1stk1-f",
        "outputId": "99570c80-ffd4-4e7e-aaa1-9e704473181e"
      },
      "execution_count": 16,
      "outputs": [
        {
          "output_type": "stream",
          "name": "stdout",
          "text": [
            "SLF4J: Class path contains multiple SLF4J bindings.\n",
            "SLF4J: Found binding in [jar:file:/content/apache-hive-3.1.3-bin/lib/log4j-slf4j-impl-2.17.1.jar!/org/slf4j/impl/StaticLoggerBinder.class]\n",
            "SLF4J: Found binding in [jar:file:/content/hadoop-3.3.6/share/hadoop/common/lib/slf4j-reload4j-1.7.36.jar!/org/slf4j/impl/StaticLoggerBinder.class]\n",
            "SLF4J: See http://www.slf4j.org/codes.html#multiple_bindings for an explanation.\n",
            "SLF4J: Actual binding is of type [org.apache.logging.slf4j.Log4jLoggerFactory]\n",
            "Hive Session ID = 3777b8b4-577f-4608-b767-ca5465864ab4\n",
            "\n",
            "Logging initialized using configuration in jar:file:/content/apache-hive-3.1.3-bin/lib/hive-common-3.1.3.jar!/hive-log4j2.properties Async: true\n",
            "Hive Session ID = 0df05612-ccf3-42fa-9e08-3f1976140bac\n",
            "OK\n",
            "default\n",
            "Time taken: 1.715 seconds, Fetched: 1 row(s)\n"
          ]
        }
      ]
    },
    {
      "cell_type": "code",
      "source": [
        "!$HIVE_HOME/bin/hive -e 'use default;'"
      ],
      "metadata": {
        "colab": {
          "base_uri": "https://localhost:8080/"
        },
        "id": "WrJ40D3olBPl",
        "outputId": "a634ba47-8244-4769-f679-341cfb939447"
      },
      "execution_count": 17,
      "outputs": [
        {
          "output_type": "stream",
          "name": "stdout",
          "text": [
            "SLF4J: Class path contains multiple SLF4J bindings.\n",
            "SLF4J: Found binding in [jar:file:/content/apache-hive-3.1.3-bin/lib/log4j-slf4j-impl-2.17.1.jar!/org/slf4j/impl/StaticLoggerBinder.class]\n",
            "SLF4J: Found binding in [jar:file:/content/hadoop-3.3.6/share/hadoop/common/lib/slf4j-reload4j-1.7.36.jar!/org/slf4j/impl/StaticLoggerBinder.class]\n",
            "SLF4J: See http://www.slf4j.org/codes.html#multiple_bindings for an explanation.\n",
            "SLF4J: Actual binding is of type [org.apache.logging.slf4j.Log4jLoggerFactory]\n",
            "Hive Session ID = f3ba6346-4e97-4b4d-bd22-4eb8818f55a4\n",
            "\n",
            "Logging initialized using configuration in jar:file:/content/apache-hive-3.1.3-bin/lib/hive-common-3.1.3.jar!/hive-log4j2.properties Async: true\n",
            "Hive Session ID = 88cfab36-5f1e-4e02-97b3-01a2a0f11cb5\n",
            "OK\n",
            "Time taken: 1.429 seconds\n"
          ]
        }
      ]
    },
    {
      "cell_type": "code",
      "source": [
        "%%bash\n",
        "$HIVE_HOME/bin/hive -e \"\n",
        "CREATE TABLE default.amaht_trucks\n",
        "(driverid String,truckid String,model String,\n",
        "jun13_miles int,jun13_gas int,may13_miles int,may13_gas int,apr13_miles int,\n",
        "apr13_gas int,mar13_miles int,mar13_gas int,feb13_miles int,feb13_gas int,\n",
        "jan13_miles int,jan13_gas int,dec12_miles int,dec12_gas int,nov12_miles int,\n",
        "nov12_gas int,oct12_miles int,oct12_gas int,sep12_miles int,sep12_gas int,\n",
        "aug12_miles int,aug12_gas int,jul12_miles int,jul12_gas int,jun12_miles int,\n",
        "jun12_gas int,may12_miles int,may12_gas int,apr12_miles int,apr12_gas int,\n",
        "mar12_miles int,mar12_gas int,feb12_miles int,feb12_gas int,jan12_miles int,\n",
        "jan12_gas int,dec11_miles int,dec11_gas int,nov11_miles int,nov11_gas int,\n",
        "oct11_miles int,oct11_gas int,sep11_miles int,sep11_gas int,aug11_miles int,\n",
        "aug11_gas int,jul11_miles int,jul11_gas int,jun11_miles int,jun11_gas int,\n",
        "may11_miles int,may11_gas int,apr11_miles int,apr11_gas int,mar11_miles int,\n",
        "mar11_gas int,feb11_miles int,feb11_gas int,jan11_miles int,jan11_gas int,\n",
        "dec10_miles int,dec10_gas int,nov10_miles int,nov10_gas int,oct10_miles int,\n",
        "oct10_gas int,sep10_miles int,sep10_gas int,aug10_miles int,aug10_gas int,\n",
        "jul10_miles int,jul10_gas int,jun10_miles int,jun10_gas int,may10_miles int,\n",
        "may10_gas int,apr10_miles int,apr10_gas int,mar10_miles int,mar10_gas int,\n",
        "feb10_miles int,feb10_gas int,jan10_miles int,jan10_gas int,dec09_miles int,\n",
        "dec09_gas int,nov09_miles int,nov09_gas int,oct09_miles int,oct09_gas int,\n",
        "sep09_miles int,sep09_gas int,aug09_miles int,aug09_gas int,jul09_miles int,\n",
        "jul09_gas int,jun09_miles int,jun09_gas int,may09_miles int,may09_gas int,\n",
        "apr09_miles int,apr09_gas int,mar09_miles int,mar09_gas int,feb09_miles int,\n",
        "feb09_gas int,jan09_miles int,jan09_gas int)\n",
        "COMMENT 'trucks'\n",
        "ROW FORMAT DELIMITED\n",
        "FIELDS TERMINATED BY ','\n",
        "LINES TERMINATED BY '\\n'\n",
        "STORED AS TEXTFILE\n",
        "TBLPROPERTIES('skip.header.line.count'='1');\n",
        "\""
      ],
      "metadata": {
        "colab": {
          "base_uri": "https://localhost:8080/"
        },
        "id": "ItT7Gi0blaCC",
        "outputId": "27f24e17-e1a0-4654-8fe6-1b436203b964"
      },
      "execution_count": 18,
      "outputs": [
        {
          "output_type": "stream",
          "name": "stderr",
          "text": [
            "SLF4J: Class path contains multiple SLF4J bindings.\n",
            "SLF4J: Found binding in [jar:file:/content/apache-hive-3.1.3-bin/lib/log4j-slf4j-impl-2.17.1.jar!/org/slf4j/impl/StaticLoggerBinder.class]\n",
            "SLF4J: Found binding in [jar:file:/content/hadoop-3.3.6/share/hadoop/common/lib/slf4j-reload4j-1.7.36.jar!/org/slf4j/impl/StaticLoggerBinder.class]\n",
            "SLF4J: See http://www.slf4j.org/codes.html#multiple_bindings for an explanation.\n",
            "SLF4J: Actual binding is of type [org.apache.logging.slf4j.Log4jLoggerFactory]\n",
            "Hive Session ID = fbccae81-f43a-4782-9067-183b8454a2c2\n",
            "\n",
            "Logging initialized using configuration in jar:file:/content/apache-hive-3.1.3-bin/lib/hive-common-3.1.3.jar!/hive-log4j2.properties Async: true\n",
            "Hive Session ID = 01528007-0c1e-4384-9b03-9130e5f05fc0\n",
            "OK\n",
            "Time taken: 2.713 seconds\n"
          ]
        }
      ]
    },
    {
      "cell_type": "code",
      "source": [
        "%%bash\n",
        "$HIVE_HOME/bin/hive -e \"\n",
        "CREATE TABLE default.amaht_geolocation (\n",
        "truckid String,driverid String,event String,latitude String,longitude String,\n",
        "city String,state String,velocity int,event_ind int,idling_ind int)\n",
        "COMMENT 'geolocation'\n",
        "ROW FORMAT DELIMITED\n",
        "FIELDS TERMINATED BY ','\n",
        "LINES TERMINATED BY '\\n'\n",
        "STORED AS TEXTFILE\n",
        "TBLPROPERTIES('skip.header.line.count'='1');\n",
        "\""
      ],
      "metadata": {
        "colab": {
          "base_uri": "https://localhost:8080/"
        },
        "id": "WqGP8j8HnmNa",
        "outputId": "6925a493-d943-49fe-c2ce-0fddec1b9915"
      },
      "execution_count": 19,
      "outputs": [
        {
          "output_type": "stream",
          "name": "stderr",
          "text": [
            "SLF4J: Class path contains multiple SLF4J bindings.\n",
            "SLF4J: Found binding in [jar:file:/content/apache-hive-3.1.3-bin/lib/log4j-slf4j-impl-2.17.1.jar!/org/slf4j/impl/StaticLoggerBinder.class]\n",
            "SLF4J: Found binding in [jar:file:/content/hadoop-3.3.6/share/hadoop/common/lib/slf4j-reload4j-1.7.36.jar!/org/slf4j/impl/StaticLoggerBinder.class]\n",
            "SLF4J: See http://www.slf4j.org/codes.html#multiple_bindings for an explanation.\n",
            "SLF4J: Actual binding is of type [org.apache.logging.slf4j.Log4jLoggerFactory]\n",
            "Hive Session ID = 02ac6b63-14dd-4349-b370-73392e5afd5d\n",
            "\n",
            "Logging initialized using configuration in jar:file:/content/apache-hive-3.1.3-bin/lib/hive-common-3.1.3.jar!/hive-log4j2.properties Async: true\n",
            "Hive Session ID = 01567818-6560-44a6-a90a-895794e75391\n",
            "OK\n",
            "Time taken: 2.302 seconds\n"
          ]
        }
      ]
    },
    {
      "cell_type": "code",
      "source": [
        "!$HIVE_HOME/bin/hive -e \"show tables;\""
      ],
      "metadata": {
        "colab": {
          "base_uri": "https://localhost:8080/"
        },
        "id": "QGdyO0vHnyMw",
        "outputId": "c4754763-8110-469c-dab8-8bb69ace37df"
      },
      "execution_count": 20,
      "outputs": [
        {
          "output_type": "stream",
          "name": "stdout",
          "text": [
            "SLF4J: Class path contains multiple SLF4J bindings.\n",
            "SLF4J: Found binding in [jar:file:/content/apache-hive-3.1.3-bin/lib/log4j-slf4j-impl-2.17.1.jar!/org/slf4j/impl/StaticLoggerBinder.class]\n",
            "SLF4J: Found binding in [jar:file:/content/hadoop-3.3.6/share/hadoop/common/lib/slf4j-reload4j-1.7.36.jar!/org/slf4j/impl/StaticLoggerBinder.class]\n",
            "SLF4J: See http://www.slf4j.org/codes.html#multiple_bindings for an explanation.\n",
            "SLF4J: Actual binding is of type [org.apache.logging.slf4j.Log4jLoggerFactory]\n",
            "Hive Session ID = f84f419c-b341-42f2-838a-de0c7171c586\n",
            "\n",
            "Logging initialized using configuration in jar:file:/content/apache-hive-3.1.3-bin/lib/hive-common-3.1.3.jar!/hive-log4j2.properties Async: true\n",
            "Hive Session ID = cc584754-5455-4d6a-9f75-b43b29adf449\n",
            "OK\n",
            "amaht_geolocation\n",
            "amaht_trucks\n",
            "Time taken: 1.64 seconds, Fetched: 2 row(s)\n"
          ]
        }
      ]
    },
    {
      "cell_type": "code",
      "source": [
        "!$HIVE_HOME/bin/hive -e \"DESCRIBE default.amaht_trucks;\""
      ],
      "metadata": {
        "colab": {
          "base_uri": "https://localhost:8080/"
        },
        "id": "VCivjlnWn0Ql",
        "outputId": "aac3e773-a2fe-4075-bb1e-926b520a6f51"
      },
      "execution_count": 21,
      "outputs": [
        {
          "output_type": "stream",
          "name": "stdout",
          "text": [
            "SLF4J: Class path contains multiple SLF4J bindings.\n",
            "SLF4J: Found binding in [jar:file:/content/apache-hive-3.1.3-bin/lib/log4j-slf4j-impl-2.17.1.jar!/org/slf4j/impl/StaticLoggerBinder.class]\n",
            "SLF4J: Found binding in [jar:file:/content/hadoop-3.3.6/share/hadoop/common/lib/slf4j-reload4j-1.7.36.jar!/org/slf4j/impl/StaticLoggerBinder.class]\n",
            "SLF4J: See http://www.slf4j.org/codes.html#multiple_bindings for an explanation.\n",
            "SLF4J: Actual binding is of type [org.apache.logging.slf4j.Log4jLoggerFactory]\n",
            "Hive Session ID = bfbce6a2-4378-49eb-bfa8-fca7f10646ea\n",
            "\n",
            "Logging initialized using configuration in jar:file:/content/apache-hive-3.1.3-bin/lib/hive-common-3.1.3.jar!/hive-log4j2.properties Async: true\n",
            "Hive Session ID = 4c5c7eab-36fc-4858-be74-983182781d27\n",
            "OK\n",
            "driverid            \tstring              \t                    \n",
            "truckid             \tstring              \t                    \n",
            "model               \tstring              \t                    \n",
            "jun13_miles         \tint                 \t                    \n",
            "jun13_gas           \tint                 \t                    \n",
            "may13_miles         \tint                 \t                    \n",
            "may13_gas           \tint                 \t                    \n",
            "apr13_miles         \tint                 \t                    \n",
            "apr13_gas           \tint                 \t                    \n",
            "mar13_miles         \tint                 \t                    \n",
            "mar13_gas           \tint                 \t                    \n",
            "feb13_miles         \tint                 \t                    \n",
            "feb13_gas           \tint                 \t                    \n",
            "jan13_miles         \tint                 \t                    \n",
            "jan13_gas           \tint                 \t                    \n",
            "dec12_miles         \tint                 \t                    \n",
            "dec12_gas           \tint                 \t                    \n",
            "nov12_miles         \tint                 \t                    \n",
            "nov12_gas           \tint                 \t                    \n",
            "oct12_miles         \tint                 \t                    \n",
            "oct12_gas           \tint                 \t                    \n",
            "sep12_miles         \tint                 \t                    \n",
            "sep12_gas           \tint                 \t                    \n",
            "aug12_miles         \tint                 \t                    \n",
            "aug12_gas           \tint                 \t                    \n",
            "jul12_miles         \tint                 \t                    \n",
            "jul12_gas           \tint                 \t                    \n",
            "jun12_miles         \tint                 \t                    \n",
            "jun12_gas           \tint                 \t                    \n",
            "may12_miles         \tint                 \t                    \n",
            "may12_gas           \tint                 \t                    \n",
            "apr12_miles         \tint                 \t                    \n",
            "apr12_gas           \tint                 \t                    \n",
            "mar12_miles         \tint                 \t                    \n",
            "mar12_gas           \tint                 \t                    \n",
            "feb12_miles         \tint                 \t                    \n",
            "feb12_gas           \tint                 \t                    \n",
            "jan12_miles         \tint                 \t                    \n",
            "jan12_gas           \tint                 \t                    \n",
            "dec11_miles         \tint                 \t                    \n",
            "dec11_gas           \tint                 \t                    \n",
            "nov11_miles         \tint                 \t                    \n",
            "nov11_gas           \tint                 \t                    \n",
            "oct11_miles         \tint                 \t                    \n",
            "oct11_gas           \tint                 \t                    \n",
            "sep11_miles         \tint                 \t                    \n",
            "sep11_gas           \tint                 \t                    \n",
            "aug11_miles         \tint                 \t                    \n",
            "aug11_gas           \tint                 \t                    \n",
            "jul11_miles         \tint                 \t                    \n",
            "jul11_gas           \tint                 \t                    \n",
            "jun11_miles         \tint                 \t                    \n",
            "jun11_gas           \tint                 \t                    \n",
            "may11_miles         \tint                 \t                    \n",
            "may11_gas           \tint                 \t                    \n",
            "apr11_miles         \tint                 \t                    \n",
            "apr11_gas           \tint                 \t                    \n",
            "mar11_miles         \tint                 \t                    \n",
            "mar11_gas           \tint                 \t                    \n",
            "feb11_miles         \tint                 \t                    \n",
            "feb11_gas           \tint                 \t                    \n",
            "jan11_miles         \tint                 \t                    \n",
            "jan11_gas           \tint                 \t                    \n",
            "dec10_miles         \tint                 \t                    \n",
            "dec10_gas           \tint                 \t                    \n",
            "nov10_miles         \tint                 \t                    \n",
            "nov10_gas           \tint                 \t                    \n",
            "oct10_miles         \tint                 \t                    \n",
            "oct10_gas           \tint                 \t                    \n",
            "sep10_miles         \tint                 \t                    \n",
            "sep10_gas           \tint                 \t                    \n",
            "aug10_miles         \tint                 \t                    \n",
            "aug10_gas           \tint                 \t                    \n",
            "jul10_miles         \tint                 \t                    \n",
            "jul10_gas           \tint                 \t                    \n",
            "jun10_miles         \tint                 \t                    \n",
            "jun10_gas           \tint                 \t                    \n",
            "may10_miles         \tint                 \t                    \n",
            "may10_gas           \tint                 \t                    \n",
            "apr10_miles         \tint                 \t                    \n",
            "apr10_gas           \tint                 \t                    \n",
            "mar10_miles         \tint                 \t                    \n",
            "mar10_gas           \tint                 \t                    \n",
            "feb10_miles         \tint                 \t                    \n",
            "feb10_gas           \tint                 \t                    \n",
            "jan10_miles         \tint                 \t                    \n",
            "jan10_gas           \tint                 \t                    \n",
            "dec09_miles         \tint                 \t                    \n",
            "dec09_gas           \tint                 \t                    \n",
            "nov09_miles         \tint                 \t                    \n",
            "nov09_gas           \tint                 \t                    \n",
            "oct09_miles         \tint                 \t                    \n",
            "oct09_gas           \tint                 \t                    \n",
            "sep09_miles         \tint                 \t                    \n",
            "sep09_gas           \tint                 \t                    \n",
            "aug09_miles         \tint                 \t                    \n",
            "aug09_gas           \tint                 \t                    \n",
            "jul09_miles         \tint                 \t                    \n",
            "jul09_gas           \tint                 \t                    \n",
            "jun09_miles         \tint                 \t                    \n",
            "jun09_gas           \tint                 \t                    \n",
            "may09_miles         \tint                 \t                    \n",
            "may09_gas           \tint                 \t                    \n",
            "apr09_miles         \tint                 \t                    \n",
            "apr09_gas           \tint                 \t                    \n",
            "mar09_miles         \tint                 \t                    \n",
            "mar09_gas           \tint                 \t                    \n",
            "feb09_miles         \tint                 \t                    \n",
            "feb09_gas           \tint                 \t                    \n",
            "jan09_miles         \tint                 \t                    \n",
            "jan09_gas           \tint                 \t                    \n",
            "Time taken: 2.364 seconds, Fetched: 111 row(s)\n"
          ]
        }
      ]
    },
    {
      "cell_type": "code",
      "source": [
        "!$HIVE_HOME/bin/hive -e \"DESCRIBE default.amaht_geolocation;\""
      ],
      "metadata": {
        "colab": {
          "base_uri": "https://localhost:8080/"
        },
        "id": "k8Kj_Jqfnzcv",
        "outputId": "90ea1abd-a70e-411f-c2bd-9f8bb0ade89e"
      },
      "execution_count": 22,
      "outputs": [
        {
          "output_type": "stream",
          "name": "stdout",
          "text": [
            "SLF4J: Class path contains multiple SLF4J bindings.\n",
            "SLF4J: Found binding in [jar:file:/content/apache-hive-3.1.3-bin/lib/log4j-slf4j-impl-2.17.1.jar!/org/slf4j/impl/StaticLoggerBinder.class]\n",
            "SLF4J: Found binding in [jar:file:/content/hadoop-3.3.6/share/hadoop/common/lib/slf4j-reload4j-1.7.36.jar!/org/slf4j/impl/StaticLoggerBinder.class]\n",
            "SLF4J: See http://www.slf4j.org/codes.html#multiple_bindings for an explanation.\n",
            "SLF4J: Actual binding is of type [org.apache.logging.slf4j.Log4jLoggerFactory]\n",
            "Hive Session ID = d92b5c01-c4f5-4473-9e05-33807cf333d8\n",
            "\n",
            "Logging initialized using configuration in jar:file:/content/apache-hive-3.1.3-bin/lib/hive-common-3.1.3.jar!/hive-log4j2.properties Async: true\n",
            "Hive Session ID = e4fde536-c7f4-42ea-a9c9-5e6fe6fc3ffe\n",
            "OK\n",
            "truckid             \tstring              \t                    \n",
            "driverid            \tstring              \t                    \n",
            "event               \tstring              \t                    \n",
            "latitude            \tstring              \t                    \n",
            "longitude           \tstring              \t                    \n",
            "city                \tstring              \t                    \n",
            "state               \tstring              \t                    \n",
            "velocity            \tint                 \t                    \n",
            "event_ind           \tint                 \t                    \n",
            "idling_ind          \tint                 \t                    \n",
            "Time taken: 3.221 seconds, Fetched: 10 row(s)\n"
          ]
        }
      ]
    },
    {
      "cell_type": "code",
      "source": [
        "!$HADOOP_HOME/bin/hadoop fs -ls /user/hive/warehouse"
      ],
      "metadata": {
        "colab": {
          "base_uri": "https://localhost:8080/"
        },
        "id": "pp2-jUW4nzP_",
        "outputId": "99664108-5081-44af-fc6b-d7f17fa1a856"
      },
      "execution_count": 23,
      "outputs": [
        {
          "output_type": "stream",
          "name": "stdout",
          "text": [
            "Found 2 items\n",
            "drwxr-xr-x   - root root       4096 2025-02-26 06:02 /user/hive/warehouse/amaht_geolocation\n",
            "drwxr-xr-x   - root root       4096 2025-02-26 06:01 /user/hive/warehouse/amaht_trucks\n"
          ]
        }
      ]
    },
    {
      "cell_type": "code",
      "source": [
        "!$HIVE_HOME/bin/hive -e \"LOAD DATA LOCAL INPATH 'trucks_extended.csv' INTO TABLE default.amaht_trucks;\""
      ],
      "metadata": {
        "colab": {
          "base_uri": "https://localhost:8080/"
        },
        "id": "HKKplyN-nzBn",
        "outputId": "416e8dea-1394-4f0a-c848-a2bb064a27db"
      },
      "execution_count": 24,
      "outputs": [
        {
          "output_type": "stream",
          "name": "stdout",
          "text": [
            "SLF4J: Class path contains multiple SLF4J bindings.\n",
            "SLF4J: Found binding in [jar:file:/content/apache-hive-3.1.3-bin/lib/log4j-slf4j-impl-2.17.1.jar!/org/slf4j/impl/StaticLoggerBinder.class]\n",
            "SLF4J: Found binding in [jar:file:/content/hadoop-3.3.6/share/hadoop/common/lib/slf4j-reload4j-1.7.36.jar!/org/slf4j/impl/StaticLoggerBinder.class]\n",
            "SLF4J: See http://www.slf4j.org/codes.html#multiple_bindings for an explanation.\n",
            "SLF4J: Actual binding is of type [org.apache.logging.slf4j.Log4jLoggerFactory]\n",
            "Hive Session ID = 08ce5d0b-d37a-4662-8d0e-a8675bd955e5\n",
            "\n",
            "Logging initialized using configuration in jar:file:/content/apache-hive-3.1.3-bin/lib/hive-common-3.1.3.jar!/hive-log4j2.properties Async: true\n",
            "Hive Session ID = a7cad244-92a8-47e4-b09a-1fcfe3e1ee55\n",
            "Loading data to table default.amaht_trucks\n",
            "OK\n",
            "Time taken: 3.053 seconds\n"
          ]
        }
      ]
    },
    {
      "cell_type": "code",
      "source": [
        "!$HIVE_HOME/bin/hive -e \"LOAD DATA LOCAL INPATH 'geolocation.csv' INTO TABLE default.amaht_geolocation;\""
      ],
      "metadata": {
        "colab": {
          "base_uri": "https://localhost:8080/"
        },
        "id": "iIxwWwycoySK",
        "outputId": "563f852a-a02f-4b5e-9d32-823d79580b4b"
      },
      "execution_count": 25,
      "outputs": [
        {
          "output_type": "stream",
          "name": "stdout",
          "text": [
            "SLF4J: Class path contains multiple SLF4J bindings.\n",
            "SLF4J: Found binding in [jar:file:/content/apache-hive-3.1.3-bin/lib/log4j-slf4j-impl-2.17.1.jar!/org/slf4j/impl/StaticLoggerBinder.class]\n",
            "SLF4J: Found binding in [jar:file:/content/hadoop-3.3.6/share/hadoop/common/lib/slf4j-reload4j-1.7.36.jar!/org/slf4j/impl/StaticLoggerBinder.class]\n",
            "SLF4J: See http://www.slf4j.org/codes.html#multiple_bindings for an explanation.\n",
            "SLF4J: Actual binding is of type [org.apache.logging.slf4j.Log4jLoggerFactory]\n",
            "Hive Session ID = 5c99b9c9-94be-4460-9454-db0ba0ba60e2\n",
            "\n",
            "Logging initialized using configuration in jar:file:/content/apache-hive-3.1.3-bin/lib/hive-common-3.1.3.jar!/hive-log4j2.properties Async: true\n",
            "Hive Session ID = 2aefd2ea-c8e2-4ed1-8096-544a38622701\n",
            "Loading data to table default.amaht_geolocation\n",
            "OK\n",
            "Time taken: 3.197 seconds\n"
          ]
        }
      ]
    },
    {
      "cell_type": "code",
      "source": [
        "!$HIVE_HOME/bin/hive -e \"SELECT * FROM default.amaht_trucks LIMIT 1;\""
      ],
      "metadata": {
        "colab": {
          "base_uri": "https://localhost:8080/"
        },
        "id": "S32zKsc5o6Xo",
        "outputId": "1c1c969d-65b3-4301-be77-46dc87eb0a29"
      },
      "execution_count": 26,
      "outputs": [
        {
          "output_type": "stream",
          "name": "stdout",
          "text": [
            "SLF4J: Class path contains multiple SLF4J bindings.\n",
            "SLF4J: Found binding in [jar:file:/content/apache-hive-3.1.3-bin/lib/log4j-slf4j-impl-2.17.1.jar!/org/slf4j/impl/StaticLoggerBinder.class]\n",
            "SLF4J: Found binding in [jar:file:/content/hadoop-3.3.6/share/hadoop/common/lib/slf4j-reload4j-1.7.36.jar!/org/slf4j/impl/StaticLoggerBinder.class]\n",
            "SLF4J: See http://www.slf4j.org/codes.html#multiple_bindings for an explanation.\n",
            "SLF4J: Actual binding is of type [org.apache.logging.slf4j.Log4jLoggerFactory]\n",
            "Hive Session ID = e3b961b2-1f92-4c40-b187-2a1bd2e7659a\n",
            "\n",
            "Logging initialized using configuration in jar:file:/content/apache-hive-3.1.3-bin/lib/hive-common-3.1.3.jar!/hive-log4j2.properties Async: true\n",
            "Hive Session ID = 1d807551-8174-432b-b707-1c79b8c85e32\n",
            "OK\n",
            "A1\tA1\tFreightliner\t9217\t1914\t8769\t1892\t14234\t3008\t11519\t2262\t8676\t1596\t10025\t1878\t12647\t2331\t10214\t2054\t10807\t2134\t11127\t2191\t9754\t1967\t12925\t2578\t15792\t3313\t9052\t1878\t11062\t2150\t13594\t2824\t11019\t2324\t9222\t1902\t8565\t1745\t10410\t1943\t13450\t3047\t10446\t2112\t10378\t2201\t9014\t1598\t9466\t2642\t14175\t2642\t11573\t2642\t13055\t2642\t14614\t2642\t14099\t2642\t15174\t2642\t10635\t2642\t12105\t2642\t10130\t2642\t11344\t2642\t10622\t2642\t10747\t2642\t12976\t2642\t13221\t2642\t10435\t2642\t12839\t2642\t8969\t2642\t8795\t2642\t13668\t2642\t12414\t2642\t13300\t2642\t11698\t2642\t14207\t2642\t14062\t2642\t12073\t2642\t15276\t2642\t9880\t2642\t13861\t2642\t11176\t2642\n",
            "Time taken: 4.968 seconds, Fetched: 1 row(s)\n"
          ]
        }
      ]
    },
    {
      "cell_type": "code",
      "source": [
        "!$HIVE_HOME/bin/hive -e \"SELECT * FROM default.amaht_geolocation LIMIT 5;\""
      ],
      "metadata": {
        "colab": {
          "base_uri": "https://localhost:8080/"
        },
        "id": "aMegK88cpCOB",
        "outputId": "abcfe5db-5a3e-4eeb-93e7-7f6de47fd77a"
      },
      "execution_count": 27,
      "outputs": [
        {
          "output_type": "stream",
          "name": "stdout",
          "text": [
            "SLF4J: Class path contains multiple SLF4J bindings.\n",
            "SLF4J: Found binding in [jar:file:/content/apache-hive-3.1.3-bin/lib/log4j-slf4j-impl-2.17.1.jar!/org/slf4j/impl/StaticLoggerBinder.class]\n",
            "SLF4J: Found binding in [jar:file:/content/hadoop-3.3.6/share/hadoop/common/lib/slf4j-reload4j-1.7.36.jar!/org/slf4j/impl/StaticLoggerBinder.class]\n",
            "SLF4J: See http://www.slf4j.org/codes.html#multiple_bindings for an explanation.\n",
            "SLF4J: Actual binding is of type [org.apache.logging.slf4j.Log4jLoggerFactory]\n",
            "Hive Session ID = 03fb1239-45f6-4d15-9a58-e367d384bb2d\n",
            "\n",
            "Logging initialized using configuration in jar:file:/content/apache-hive-3.1.3-bin/lib/hive-common-3.1.3.jar!/hive-log4j2.properties Async: true\n",
            "Hive Session ID = a806d654-41f4-4a0f-ae8d-72f0ff7a1719\n",
            "OK\n",
            "A54\tA54\tnormal\t38.440467\t-122.714431\tSanta Rosa\tCalifornia\t17\t0\t0\n",
            "A20\tA20\tnormal\t36.977173\t-121.899402\tAptos\tCalifornia\t27\t0\t0\n",
            "A40\tA40\toverspeed\t37.957702\t-121.29078\tStockton\tCalifornia\t77\t1\t0\n",
            "A31\tA31\tnormal\t39.409608\t-123.355566\tWillits\tCalifornia\t22\t0\t0\n",
            "A71\tA71\tnormal\t33.683947\t-117.794694\tIrvine\tCalifornia\t43\t0\t0\n",
            "Time taken: 4.314 seconds, Fetched: 5 row(s)\n"
          ]
        }
      ]
    },
    {
      "cell_type": "code",
      "source": [
        "%%bash\n",
        "$HIVE_HOME/bin/hive -e \"\n",
        "CREATE TABLE default.amaht_truck_mileage STORED AS ORC AS\n",
        "SELECT truckid, driverid, rdate, miles, gas, miles / gas mpg\n",
        "FROM default.amaht_trucks\n",
        "LATERAL VIEW stack(54,\n",
        "'jun13',jun13_miles,jun13_gas,'may13',may13_miles,may13_gas,\n",
        "'apr13',apr13_miles,apr13_gas,'mar13',mar13_miles,mar13_gas,\n",
        "'feb13',feb13_miles,feb13_gas,'jan13',jan13_miles,jan13_gas,\n",
        "'dec12',dec12_miles,dec12_gas,'nov12',nov12_miles,nov12_gas,\n",
        "'oct12',oct12_miles,oct12_gas,'sep12',sep12_miles,sep12_gas,\n",
        "'aug12',aug12_miles,aug12_gas,'jul12',jul12_miles,jul12_gas,\n",
        "'jun12',jun12_miles,jun12_gas,'may12',may12_miles,may12_gas,\n",
        "'apr12',apr12_miles,apr12_gas,'mar12',mar12_miles,mar12_gas,\n",
        "'feb12',feb12_miles,feb12_gas,'jan12',jan12_miles,jan12_gas,\n",
        "'dec11',dec11_miles,dec11_gas,'nov11',nov11_miles,nov11_gas,\n",
        "'oct11',oct11_miles,oct11_gas,'sep11',sep11_miles,sep11_gas,\n",
        "'aug11',aug11_miles,aug11_gas,'jul11',jul11_miles,jul11_gas,\n",
        "'jun11',jun11_miles,jun11_gas,'may11',may11_miles,may11_gas,\n",
        "'apr11',apr11_miles,apr11_gas,'mar11',mar11_miles,mar11_gas,\n",
        "'feb11',feb11_miles,feb11_gas,'jan11',jan11_miles,jan11_gas,\n",
        "'dec10',dec10_miles,dec10_gas,'nov10',nov10_miles,nov10_gas,\n",
        "'oct10',oct10_miles,oct10_gas,'sep10',sep10_miles,sep10_gas,\n",
        "'aug10',aug10_miles,aug10_gas,'jul10',jul10_miles,jul10_gas,\n",
        "'jun10',jun10_miles,jun10_gas,'may10',may10_miles,may10_gas,\n",
        "'apr10',apr10_miles,apr10_gas,'mar10',mar10_miles,mar10_gas,\n",
        "'feb10',feb10_miles,feb10_gas,'jan10',jan10_miles,jan10_gas,\n",
        "'dec09',dec09_miles,dec09_gas,'nov09',nov09_miles,nov09_gas,\n",
        "'oct09',oct09_miles,oct09_gas,'sep09',sep09_miles,sep09_gas,\n",
        "'aug09',aug09_miles,aug09_gas,'jul09',jul09_miles,jul09_gas,\n",
        "'jun09',jun09_miles,jun09_gas,'may09',may09_miles,may09_gas,\n",
        "'apr09',apr09_miles,apr09_gas,'mar09',mar09_miles,mar09_gas,\n",
        "'feb09',feb09_miles,feb09_gas,'jan09',jan09_miles,jan09_gas )\n",
        "dummyalias AS rdate, miles, gas;\n",
        "\""
      ],
      "metadata": {
        "colab": {
          "base_uri": "https://localhost:8080/"
        },
        "id": "PavK_0d3qQ1D",
        "outputId": "eb59c4f3-06c0-4fed-cf5d-e4688998d12c"
      },
      "execution_count": 28,
      "outputs": [
        {
          "output_type": "stream",
          "name": "stderr",
          "text": [
            "SLF4J: Class path contains multiple SLF4J bindings.\n",
            "SLF4J: Found binding in [jar:file:/content/apache-hive-3.1.3-bin/lib/log4j-slf4j-impl-2.17.1.jar!/org/slf4j/impl/StaticLoggerBinder.class]\n",
            "SLF4J: Found binding in [jar:file:/content/hadoop-3.3.6/share/hadoop/common/lib/slf4j-reload4j-1.7.36.jar!/org/slf4j/impl/StaticLoggerBinder.class]\n",
            "SLF4J: See http://www.slf4j.org/codes.html#multiple_bindings for an explanation.\n",
            "SLF4J: Actual binding is of type [org.apache.logging.slf4j.Log4jLoggerFactory]\n",
            "Hive Session ID = d7aa8c68-165e-437c-8fab-a848adad4e52\n",
            "\n",
            "Logging initialized using configuration in jar:file:/content/apache-hive-3.1.3-bin/lib/hive-common-3.1.3.jar!/hive-log4j2.properties Async: true\n",
            "Hive Session ID = 61503811-3125-4be6-9900-d03e4a256ae8\n",
            "Query ID = root_20250226060457_273d973b-43f0-4dcd-ab38-e2c24a48f639\n",
            "Total jobs = 1\n",
            "Launching Job 1 out of 1\n",
            "Number of reduce tasks is set to 0 since there's no reduce operator\n",
            "Job running in-process (local Hadoop)\n",
            "2025-02-26 06:05:03,639 Stage-1 map = 100%,  reduce = 0%\n",
            "Ended Job = job_local1653192407_0001\n",
            "Stage-4 is selected by condition resolver.\n",
            "Stage-3 is filtered out by condition resolver.\n",
            "Stage-5 is filtered out by condition resolver.\n",
            "Moving data to directory file:/user/hive/warehouse/.hive-staging_hive_2025-02-26_06-04-57_342_5519769956759768426-1/-ext-10001\n",
            "Moving data to directory file:/user/hive/warehouse/amaht_truck_mileage\n",
            "MapReduce Jobs Launched: \n",
            "Stage-Stage-1:  HDFS Read: 0 HDFS Write: 0 SUCCESS\n",
            "Total MapReduce CPU Time Spent: 0 msec\n",
            "OK\n",
            "Time taken: 7.618 seconds\n"
          ]
        }
      ]
    },
    {
      "cell_type": "code",
      "source": [
        "!$HIVE_HOME/bin/hive -e \"show tables;\""
      ],
      "metadata": {
        "colab": {
          "base_uri": "https://localhost:8080/"
        },
        "id": "TMRq1oCoqQxI",
        "outputId": "aae7e5d7-42a9-4c1c-c0e5-be7661a25083"
      },
      "execution_count": 29,
      "outputs": [
        {
          "output_type": "stream",
          "name": "stdout",
          "text": [
            "SLF4J: Class path contains multiple SLF4J bindings.\n",
            "SLF4J: Found binding in [jar:file:/content/apache-hive-3.1.3-bin/lib/log4j-slf4j-impl-2.17.1.jar!/org/slf4j/impl/StaticLoggerBinder.class]\n",
            "SLF4J: Found binding in [jar:file:/content/hadoop-3.3.6/share/hadoop/common/lib/slf4j-reload4j-1.7.36.jar!/org/slf4j/impl/StaticLoggerBinder.class]\n",
            "SLF4J: See http://www.slf4j.org/codes.html#multiple_bindings for an explanation.\n",
            "SLF4J: Actual binding is of type [org.apache.logging.slf4j.Log4jLoggerFactory]\n",
            "Hive Session ID = d7f517b4-9758-45b5-beb0-397e7d3560bc\n",
            "\n",
            "Logging initialized using configuration in jar:file:/content/apache-hive-3.1.3-bin/lib/hive-common-3.1.3.jar!/hive-log4j2.properties Async: true\n",
            "Hive Session ID = 29b5ceff-b95e-4c4e-a282-9b6318c568f2\n",
            "OK\n",
            "amaht_geolocation\n",
            "amaht_truck_mileage\n",
            "amaht_trucks\n",
            "Time taken: 1.768 seconds, Fetched: 3 row(s)\n"
          ]
        }
      ]
    },
    {
      "cell_type": "code",
      "source": [
        "!$HIVE_HOME/bin/hive -e \"DESCRIBE default.amaht_truck_mileage;\""
      ],
      "metadata": {
        "colab": {
          "base_uri": "https://localhost:8080/"
        },
        "id": "rzx-Xbr8qtsu",
        "outputId": "6f683b56-a7b6-45bb-c6cc-e71d42d811eb"
      },
      "execution_count": 30,
      "outputs": [
        {
          "output_type": "stream",
          "name": "stdout",
          "text": [
            "SLF4J: Class path contains multiple SLF4J bindings.\n",
            "SLF4J: Found binding in [jar:file:/content/apache-hive-3.1.3-bin/lib/log4j-slf4j-impl-2.17.1.jar!/org/slf4j/impl/StaticLoggerBinder.class]\n",
            "SLF4J: Found binding in [jar:file:/content/hadoop-3.3.6/share/hadoop/common/lib/slf4j-reload4j-1.7.36.jar!/org/slf4j/impl/StaticLoggerBinder.class]\n",
            "SLF4J: See http://www.slf4j.org/codes.html#multiple_bindings for an explanation.\n",
            "SLF4J: Actual binding is of type [org.apache.logging.slf4j.Log4jLoggerFactory]\n",
            "Hive Session ID = 341ed8d5-252c-472f-baa7-d54fcce80fd4\n",
            "\n",
            "Logging initialized using configuration in jar:file:/content/apache-hive-3.1.3-bin/lib/hive-common-3.1.3.jar!/hive-log4j2.properties Async: true\n",
            "Hive Session ID = b5c23714-87b1-4002-8fb4-36f1dde3aaf9\n",
            "OK\n",
            "truckid             \tstring              \t                    \n",
            "driverid            \tstring              \t                    \n",
            "rdate               \tstring              \t                    \n",
            "miles               \tint                 \t                    \n",
            "gas                 \tint                 \t                    \n",
            "mpg                 \tdouble              \t                    \n",
            "Time taken: 2.453 seconds, Fetched: 6 row(s)\n"
          ]
        }
      ]
    },
    {
      "cell_type": "code",
      "source": [
        "!$HIVE_HOME/bin/hive -e \"SET hive.cli.print.header=true;\"\n",
        "!$HIVE_HOME/bin/hive -e \"SELECT * FROM default.amaht_truck_mileage LIMIT 10;\""
      ],
      "metadata": {
        "colab": {
          "base_uri": "https://localhost:8080/"
        },
        "id": "yJjjjuUgq1uQ",
        "outputId": "7de1fddf-e97e-4bd4-97a7-e825031e747d"
      },
      "execution_count": 31,
      "outputs": [
        {
          "output_type": "stream",
          "name": "stdout",
          "text": [
            "SLF4J: Class path contains multiple SLF4J bindings.\n",
            "SLF4J: Found binding in [jar:file:/content/apache-hive-3.1.3-bin/lib/log4j-slf4j-impl-2.17.1.jar!/org/slf4j/impl/StaticLoggerBinder.class]\n",
            "SLF4J: Found binding in [jar:file:/content/hadoop-3.3.6/share/hadoop/common/lib/slf4j-reload4j-1.7.36.jar!/org/slf4j/impl/StaticLoggerBinder.class]\n",
            "SLF4J: See http://www.slf4j.org/codes.html#multiple_bindings for an explanation.\n",
            "SLF4J: Actual binding is of type [org.apache.logging.slf4j.Log4jLoggerFactory]\n",
            "Hive Session ID = 950fc259-6391-477c-aac6-551de53cd5c0\n",
            "\n",
            "Logging initialized using configuration in jar:file:/content/apache-hive-3.1.3-bin/lib/hive-common-3.1.3.jar!/hive-log4j2.properties Async: true\n",
            "Hive Session ID = aaf2f37d-0481-4f7a-855d-87358b8f200f\n",
            "SLF4J: Class path contains multiple SLF4J bindings.\n",
            "SLF4J: Found binding in [jar:file:/content/apache-hive-3.1.3-bin/lib/log4j-slf4j-impl-2.17.1.jar!/org/slf4j/impl/StaticLoggerBinder.class]\n",
            "SLF4J: Found binding in [jar:file:/content/hadoop-3.3.6/share/hadoop/common/lib/slf4j-reload4j-1.7.36.jar!/org/slf4j/impl/StaticLoggerBinder.class]\n",
            "SLF4J: See http://www.slf4j.org/codes.html#multiple_bindings for an explanation.\n",
            "SLF4J: Actual binding is of type [org.apache.logging.slf4j.Log4jLoggerFactory]\n",
            "Hive Session ID = fe9cb9dd-c34c-42d3-b8fb-1709e4075c03\n",
            "\n",
            "Logging initialized using configuration in jar:file:/content/apache-hive-3.1.3-bin/lib/hive-common-3.1.3.jar!/hive-log4j2.properties Async: true\n",
            "Hive Session ID = 194843ce-7c00-4010-8e91-b039f3b17d5b\n",
            "OK\n",
            "A1\tA1\tjun13\t9217\t1914\t4.815569487983281\n",
            "A1\tA1\tmay13\t8769\t1892\t4.63477801268499\n",
            "A1\tA1\tapr13\t14234\t3008\t4.732047872340425\n",
            "A1\tA1\tmar13\t11519\t2262\t5.092396109637489\n",
            "A1\tA1\tfeb13\t8676\t1596\t5.43609022556391\n",
            "A1\tA1\tjan13\t10025\t1878\t5.338125665601704\n",
            "A1\tA1\tdec12\t12647\t2331\t5.425568425568426\n",
            "A1\tA1\tnov12\t10214\t2054\t4.972736124634859\n",
            "A1\tA1\toct12\t10807\t2134\t5.064198687910028\n",
            "A1\tA1\tsep12\t11127\t2191\t5.078502966681881\n",
            "Time taken: 5.71 seconds, Fetched: 10 row(s)\n"
          ]
        }
      ]
    },
    {
      "cell_type": "code",
      "source": [
        "%%bash\n",
        "$HIVE_HOME/bin/hive -e \"\n",
        "CREATE TABLE default.amaht_avg_mileage\n",
        "STORED AS ORC\n",
        "AS\n",
        "SELECT truckid, avg(mpg) avgmpg\n",
        "FROM default.amaht_truck_mileage\n",
        "GROUP BY truckid\n",
        "DISTRIBUTE BY avgmpg\n",
        "SORT BY avgmpg DESC;\n",
        "\""
      ],
      "metadata": {
        "colab": {
          "base_uri": "https://localhost:8080/"
        },
        "id": "e6GLe9ywrEXh",
        "outputId": "28a3b300-1767-46ca-beb3-a234a3532217"
      },
      "execution_count": 32,
      "outputs": [
        {
          "output_type": "stream",
          "name": "stderr",
          "text": [
            "SLF4J: Class path contains multiple SLF4J bindings.\n",
            "SLF4J: Found binding in [jar:file:/content/apache-hive-3.1.3-bin/lib/log4j-slf4j-impl-2.17.1.jar!/org/slf4j/impl/StaticLoggerBinder.class]\n",
            "SLF4J: Found binding in [jar:file:/content/hadoop-3.3.6/share/hadoop/common/lib/slf4j-reload4j-1.7.36.jar!/org/slf4j/impl/StaticLoggerBinder.class]\n",
            "SLF4J: See http://www.slf4j.org/codes.html#multiple_bindings for an explanation.\n",
            "SLF4J: Actual binding is of type [org.apache.logging.slf4j.Log4jLoggerFactory]\n",
            "Hive Session ID = b04cb875-10bd-49cf-b0bc-247f3a23a37c\n",
            "\n",
            "Logging initialized using configuration in jar:file:/content/apache-hive-3.1.3-bin/lib/hive-common-3.1.3.jar!/hive-log4j2.properties Async: true\n",
            "Hive Session ID = 445b1969-7045-4abf-b71f-8ed4c9b81661\n",
            "Query ID = root_20250226060638_6510eb5e-d358-4127-b441-1617c4a0465c\n",
            "Total jobs = 2\n",
            "Launching Job 1 out of 2\n",
            "Number of reduce tasks not specified. Estimated from input data size: 1\n",
            "In order to change the average load for a reducer (in bytes):\n",
            "  set hive.exec.reducers.bytes.per.reducer=<number>\n",
            "In order to limit the maximum number of reducers:\n",
            "  set hive.exec.reducers.max=<number>\n",
            "In order to set a constant number of reducers:\n",
            "  set mapreduce.job.reduces=<number>\n",
            "Job running in-process (local Hadoop)\n",
            "2025-02-26 06:06:44,126 Stage-1 map = 0%,  reduce = 0%\n",
            "2025-02-26 06:06:45,160 Stage-1 map = 100%,  reduce = 100%\n",
            "Ended Job = job_local1792830015_0001\n",
            "Launching Job 2 out of 2\n",
            "Number of reduce tasks not specified. Estimated from input data size: 1\n",
            "In order to change the average load for a reducer (in bytes):\n",
            "  set hive.exec.reducers.bytes.per.reducer=<number>\n",
            "In order to limit the maximum number of reducers:\n",
            "  set hive.exec.reducers.max=<number>\n",
            "In order to set a constant number of reducers:\n",
            "  set mapreduce.job.reduces=<number>\n",
            "Job running in-process (local Hadoop)\n",
            "2025-02-26 06:06:47,327 Stage-2 map = 100%,  reduce = 0%\n",
            "2025-02-26 06:06:48,335 Stage-2 map = 100%,  reduce = 100%\n",
            "Ended Job = job_local1870270207_0002\n",
            "Moving data to directory file:/user/hive/warehouse/amaht_avg_mileage\n",
            "MapReduce Jobs Launched: \n",
            "Stage-Stage-1:  HDFS Read: 0 HDFS Write: 0 SUCCESS\n",
            "Stage-Stage-2:  HDFS Read: 0 HDFS Write: 0 SUCCESS\n",
            "Total MapReduce CPU Time Spent: 0 msec\n",
            "OK\n",
            "Time taken: 11.358 seconds\n"
          ]
        }
      ]
    },
    {
      "cell_type": "code",
      "source": [
        "!$HIVE_HOME/bin/hive -e \"SELECT * FROM default.amaht_avg_mileage LIMIT 10;\""
      ],
      "metadata": {
        "colab": {
          "base_uri": "https://localhost:8080/"
        },
        "id": "eOOWlzbprbfO",
        "outputId": "3b0ebde7-bf82-4148-bce7-1d7fa2ef3dd7"
      },
      "execution_count": 33,
      "outputs": [
        {
          "output_type": "stream",
          "name": "stdout",
          "text": [
            "SLF4J: Class path contains multiple SLF4J bindings.\n",
            "SLF4J: Found binding in [jar:file:/content/apache-hive-3.1.3-bin/lib/log4j-slf4j-impl-2.17.1.jar!/org/slf4j/impl/StaticLoggerBinder.class]\n",
            "SLF4J: Found binding in [jar:file:/content/hadoop-3.3.6/share/hadoop/common/lib/slf4j-reload4j-1.7.36.jar!/org/slf4j/impl/StaticLoggerBinder.class]\n",
            "SLF4J: See http://www.slf4j.org/codes.html#multiple_bindings for an explanation.\n",
            "SLF4J: Actual binding is of type [org.apache.logging.slf4j.Log4jLoggerFactory]\n",
            "Hive Session ID = db8cdda0-759a-4900-a57d-91ffab5eed6b\n",
            "\n",
            "Logging initialized using configuration in jar:file:/content/apache-hive-3.1.3-bin/lib/hive-common-3.1.3.jar!/hive-log4j2.properties Async: true\n",
            "Hive Session ID = b23f6bc2-133b-4c83-8470-6b0435ddc178\n",
            "OK\n",
            "A18\t6.295206724472384\n",
            "A61\t6.238571478738324\n",
            "A79\t6.230205355202399\n",
            "A30\t6.202007499297939\n",
            "A60\t5.96129692348809\n",
            "A38\t5.917100754501856\n",
            "A13\t5.8205454797114795\n",
            "A40\t5.8199316380329105\n",
            "A2\t5.795686564164179\n",
            "A92\t5.787692965941835\n",
            "Time taken: 5.48 seconds, Fetched: 10 row(s)\n"
          ]
        }
      ]
    },
    {
      "cell_type": "code",
      "source": [
        "%%bash\n",
        "$HIVE_HOME/bin/hive -e \"\n",
        "CREATE TABLE default.amaht_driver_mileage\n",
        "STORED AS ORC AS\n",
        "SELECT driverid, SUM(miles) AS total_miles\n",
        "FROM default.amaht_truck_mileage\n",
        "GROUP BY driverid\n",
        "SORT BY total_miles DESC;\n",
        "\""
      ],
      "metadata": {
        "colab": {
          "base_uri": "https://localhost:8080/"
        },
        "id": "-Ljf9oGb0OPy",
        "outputId": "76e75590-47ed-440f-8689-ce487c2a9677"
      },
      "execution_count": 34,
      "outputs": [
        {
          "output_type": "stream",
          "name": "stderr",
          "text": [
            "SLF4J: Class path contains multiple SLF4J bindings.\n",
            "SLF4J: Found binding in [jar:file:/content/apache-hive-3.1.3-bin/lib/log4j-slf4j-impl-2.17.1.jar!/org/slf4j/impl/StaticLoggerBinder.class]\n",
            "SLF4J: Found binding in [jar:file:/content/hadoop-3.3.6/share/hadoop/common/lib/slf4j-reload4j-1.7.36.jar!/org/slf4j/impl/StaticLoggerBinder.class]\n",
            "SLF4J: See http://www.slf4j.org/codes.html#multiple_bindings for an explanation.\n",
            "SLF4J: Actual binding is of type [org.apache.logging.slf4j.Log4jLoggerFactory]\n",
            "Hive Session ID = 028aca14-dd06-4988-b3b6-ae3fe3745294\n",
            "\n",
            "Logging initialized using configuration in jar:file:/content/apache-hive-3.1.3-bin/lib/hive-common-3.1.3.jar!/hive-log4j2.properties Async: true\n",
            "Hive Session ID = 3f17f690-5fe6-4ceb-989e-a1d3dc12ae06\n",
            "Query ID = root_20250226060727_927efa38-b61a-4528-ba93-6e952705483e\n",
            "Total jobs = 2\n",
            "Launching Job 1 out of 2\n",
            "Number of reduce tasks not specified. Estimated from input data size: 1\n",
            "In order to change the average load for a reducer (in bytes):\n",
            "  set hive.exec.reducers.bytes.per.reducer=<number>\n",
            "In order to limit the maximum number of reducers:\n",
            "  set hive.exec.reducers.max=<number>\n",
            "In order to set a constant number of reducers:\n",
            "  set mapreduce.job.reduces=<number>\n",
            "Job running in-process (local Hadoop)\n",
            "2025-02-26 06:07:32,699 Stage-1 map = 100%,  reduce = 0%\n",
            "2025-02-26 06:07:33,708 Stage-1 map = 100%,  reduce = 100%\n",
            "Ended Job = job_local366188206_0001\n",
            "Launching Job 2 out of 2\n",
            "Number of reduce tasks not specified. Estimated from input data size: 1\n",
            "In order to change the average load for a reducer (in bytes):\n",
            "  set hive.exec.reducers.bytes.per.reducer=<number>\n",
            "In order to limit the maximum number of reducers:\n",
            "  set hive.exec.reducers.max=<number>\n",
            "In order to set a constant number of reducers:\n",
            "  set mapreduce.job.reduces=<number>\n",
            "Job running in-process (local Hadoop)\n",
            "2025-02-26 06:07:35,229 Stage-2 map = 0%,  reduce = 0%\n",
            "2025-02-26 06:07:36,246 Stage-2 map = 100%,  reduce = 100%\n",
            "Ended Job = job_local833126950_0002\n",
            "Moving data to directory file:/user/hive/warehouse/amaht_driver_mileage\n",
            "MapReduce Jobs Launched: \n",
            "Stage-Stage-1:  HDFS Read: 0 HDFS Write: 0 SUCCESS\n",
            "Stage-Stage-2:  HDFS Read: 0 HDFS Write: 0 SUCCESS\n",
            "Total MapReduce CPU Time Spent: 0 msec\n",
            "OK\n",
            "Time taken: 10.683 seconds\n"
          ]
        }
      ]
    },
    {
      "cell_type": "code",
      "source": [
        "%%bash\n",
        "$HIVE_HOME/bin/hive -e \"\n",
        "DESCRIBE FORMATTED default.amaht_driver_mileage;\n",
        "\""
      ],
      "metadata": {
        "colab": {
          "base_uri": "https://localhost:8080/"
        },
        "id": "jnngNLgo0QSv",
        "outputId": "c4eee027-f5e3-46dd-f269-cd7d29ea2c58"
      },
      "execution_count": 35,
      "outputs": [
        {
          "output_type": "stream",
          "name": "stdout",
          "text": [
            "# col_name            \tdata_type           \tcomment             \n",
            "driverid            \tstring              \t                    \n",
            "total_miles         \tbigint              \t                    \n",
            "\t \t \n",
            "# Detailed Table Information\t \t \n",
            "Database:           \tdefault             \t \n",
            "OwnerType:          \tUSER                \t \n",
            "Owner:              \troot                \t \n",
            "CreateTime:         \tWed Feb 26 06:07:36 UTC 2025\t \n",
            "LastAccessTime:     \tUNKNOWN             \t \n",
            "Retention:          \t0                   \t \n",
            "Location:           \tfile:/user/hive/warehouse/amaht_driver_mileage\t \n",
            "Table Type:         \tMANAGED_TABLE       \t \n",
            "Table Parameters:\t \t \n",
            "\tCOLUMN_STATS_ACCURATE\t{\\\"BASIC_STATS\\\":\\\"true\\\"}\n",
            "\tbucketing_version   \t2                   \n",
            "\tnumFiles            \t1                   \n",
            "\tnumRows             \t100                 \n",
            "\trawDataSize         \t9400                \n",
            "\ttotalSize           \t725                 \n",
            "\ttransient_lastDdlTime\t1740550057          \n",
            "\t \t \n",
            "# Storage Information\t \t \n",
            "SerDe Library:      \torg.apache.hadoop.hive.ql.io.orc.OrcSerde\t \n",
            "InputFormat:        \torg.apache.hadoop.hive.ql.io.orc.OrcInputFormat\t \n",
            "OutputFormat:       \torg.apache.hadoop.hive.ql.io.orc.OrcOutputFormat\t \n",
            "Compressed:         \tNo                  \t \n",
            "Num Buckets:        \t-1                  \t \n",
            "Bucket Columns:     \t[]                  \t \n",
            "Sort Columns:       \t[]                  \t \n",
            "Storage Desc Params:\t \t \n",
            "\tserialization.format\t1                   \n"
          ]
        },
        {
          "output_type": "stream",
          "name": "stderr",
          "text": [
            "SLF4J: Class path contains multiple SLF4J bindings.\n",
            "SLF4J: Found binding in [jar:file:/content/apache-hive-3.1.3-bin/lib/log4j-slf4j-impl-2.17.1.jar!/org/slf4j/impl/StaticLoggerBinder.class]\n",
            "SLF4J: Found binding in [jar:file:/content/hadoop-3.3.6/share/hadoop/common/lib/slf4j-reload4j-1.7.36.jar!/org/slf4j/impl/StaticLoggerBinder.class]\n",
            "SLF4J: See http://www.slf4j.org/codes.html#multiple_bindings for an explanation.\n",
            "SLF4J: Actual binding is of type [org.apache.logging.slf4j.Log4jLoggerFactory]\n",
            "Hive Session ID = 8904d980-c2a9-43d9-ab03-a6e76ce4ceba\n",
            "\n",
            "Logging initialized using configuration in jar:file:/content/apache-hive-3.1.3-bin/lib/hive-common-3.1.3.jar!/hive-log4j2.properties Async: true\n",
            "Hive Session ID = 019af16e-cdf5-47b5-b5ab-8cec1bce3d79\n",
            "OK\n",
            "Time taken: 2.47 seconds, Fetched: 32 row(s)\n"
          ]
        }
      ]
    },
    {
      "cell_type": "code",
      "source": [
        "%%bash\n",
        "$HIVE_HOME/bin/hive -e \"\n",
        "SELECT driverid, total_miles\n",
        "FROM default.amaht_driver_mileage\n",
        "ORDER BY total_miles DESC\n",
        "LIMIT 10;\n",
        "\""
      ],
      "metadata": {
        "colab": {
          "base_uri": "https://localhost:8080/"
        },
        "id": "48oSvJ-50VTD",
        "outputId": "451fa8cd-91e9-4c58-8e3a-879258e8b86c"
      },
      "execution_count": 36,
      "outputs": [
        {
          "output_type": "stream",
          "name": "stdout",
          "text": [
            "A52\t684131\n",
            "A80\t681115\n",
            "A94\t676750\n",
            "A5\t676574\n",
            "A10\t675377\n",
            "A24\t675334\n",
            "A68\t672089\n",
            "A71\t672026\n",
            "A27\t670601\n",
            "A31\t668620\n"
          ]
        },
        {
          "output_type": "stream",
          "name": "stderr",
          "text": [
            "SLF4J: Class path contains multiple SLF4J bindings.\n",
            "SLF4J: Found binding in [jar:file:/content/apache-hive-3.1.3-bin/lib/log4j-slf4j-impl-2.17.1.jar!/org/slf4j/impl/StaticLoggerBinder.class]\n",
            "SLF4J: Found binding in [jar:file:/content/hadoop-3.3.6/share/hadoop/common/lib/slf4j-reload4j-1.7.36.jar!/org/slf4j/impl/StaticLoggerBinder.class]\n",
            "SLF4J: See http://www.slf4j.org/codes.html#multiple_bindings for an explanation.\n",
            "SLF4J: Actual binding is of type [org.apache.logging.slf4j.Log4jLoggerFactory]\n",
            "Hive Session ID = 45f7dbb1-4eed-4517-8215-79efc19260cd\n",
            "\n",
            "Logging initialized using configuration in jar:file:/content/apache-hive-3.1.3-bin/lib/hive-common-3.1.3.jar!/hive-log4j2.properties Async: true\n",
            "Hive Session ID = d83e7666-58b1-48c5-a3b8-0be658db33d3\n",
            "Query ID = root_20250226060815_f48ea0e1-da1a-4175-bdc7-bd18c49bf922\n",
            "Total jobs = 1\n",
            "Launching Job 1 out of 1\n",
            "Number of reduce tasks determined at compile time: 1\n",
            "In order to change the average load for a reducer (in bytes):\n",
            "  set hive.exec.reducers.bytes.per.reducer=<number>\n",
            "In order to limit the maximum number of reducers:\n",
            "  set hive.exec.reducers.max=<number>\n",
            "In order to set a constant number of reducers:\n",
            "  set mapreduce.job.reduces=<number>\n",
            "Job running in-process (local Hadoop)\n",
            "2025-02-26 06:08:23,398 Stage-1 map = 100%,  reduce = 0%\n",
            "2025-02-26 06:08:24,408 Stage-1 map = 100%,  reduce = 100%\n",
            "Ended Job = job_local1441122520_0001\n",
            "MapReduce Jobs Launched: \n",
            "Stage-Stage-1:  HDFS Read: 0 HDFS Write: 0 SUCCESS\n",
            "Total MapReduce CPU Time Spent: 0 msec\n",
            "OK\n",
            "Time taken: 9.023 seconds, Fetched: 10 row(s)\n"
          ]
        }
      ]
    }
  ]
}